{
 "cells": [
  {
   "cell_type": "markdown",
   "metadata": {},
   "source": [
    "## Tensorflow Object Detection Steps\n",
    "\n",
    "#### Step 1. Create a new Environment \n",
    "- conda create -n tfod python=3.8\n",
    "- pip install tensorflow==2.2.0\n",
    "\n",
    "#### Step 2. Follow Steps for Installing of CUDA and CUDNN for GPU\n",
    "\n",
    "- https://tensorflow-object-detection-api-tutorial.readthedocs.io/en/latest/install.html\n",
    "\n",
    "#### Step 3. Clone below Repository in Tensorflow Directory\n",
    "- https://github.com/tensorflow/models\n",
    "\n",
    "#### Step 4. Protobuf Installation and Compilation.\n",
    "\n",
    "Tensorflow Object Detection API uses Protobufs to configure model and training parameters.Before we use Framework,Protobuf libraries must be downloaded and compiled\n",
    "\n",
    "- https://github.com/protocolbuffers/protobuf/releases\n",
    "\n",
    "Select protoc-3.14.0-win64 to Download -- Extract that folder where you have cloned Github Models repository\n",
    "\n",
    "- Copy All three folder of Tensorfolder -- Bin,include,readme into C-ProgramFiles - New Folder - Google Protobuf - Paste\n",
    "\n",
    "- Set that Google Protobuf Bin in Environment Variable.\n",
    "\n",
    "- cd Tensorflow/Models/research in CMD\n",
    "\n",
    "- Compiling --- protoc object_detection/protos/*.proto --python_out=.  \n",
    "\n",
    "###### If Above commands is executed then it means Protobuf Installation and Compilation is completed."
   ]
  },
  {
   "cell_type": "markdown",
   "metadata": {},
   "source": [
    "#### Step 5. COCO API Installation - Object Detection API\n",
    "\n",
    "As of TensorFlow 2.x, the pycocotools package is listed as a dependency of the Object Detection API.\n",
    "\n",
    "- pip install cython\n",
    "- conda install git\n",
    "- pip install git+https://github.com/philferriere/cocoapi.git#subdirectory=PythonAPI\n",
    "\n",
    "OR \n",
    "\n",
    "- pip install pycocotools-windows \n",
    "\n",
    "OR \n",
    "\n",
    "Recommended Way -- Which worked for me \n",
    "\n",
    "To Resolve Error of Building wheels of pycocotools . Follow Below steps\n",
    "\n",
    "- Add this to your PATH environment variables:\n",
    "\n",
    "  C:\\Program Files (x86)\\Windows Kits\\10\\bin\\x64 \n",
    "  \n",
    "  C:\\Program Files (x86)\\Microsoft Visual Studio 14.0\\VC\\bin\n",
    "  \n",
    "\n",
    "- Copy these files rc.exe & rcdll.dll from C:\\Program Files (x86)\\Windows Kits\\8.1\\bin\\x86 to C:\\Program Files (x86)\\Microsoft Visual Studio 14.0\\VC\\bin\n",
    "\n",
    "- CLONE - https://github.com/philferriere/cocoapi -- Extract --  cd into PythonAPI --Run -- python setup.py build_ext --inplace\n",
    "\n",
    "#### Step 6 Install Object Detection API\n",
    "\n",
    "Installation of the Object Detection API is achieved by installing the object_detection package. This is done by running the following commands from within Tensorflow\\models\\research:\n",
    "\n",
    "Open Gitbash on above path\n",
    "\n",
    "- cp object_detection/packages/tf2/setup.py .\n",
    "- python -m pip install .\n",
    "\n",
    "Above python will install Tensorflow = 2.4.1 , Your previous Tensorflow - 2.2.0 will be overwritten.\n",
    "\n",
    "When you run on 2.4.1 . GPU will not get initiated\n",
    "When you run on 2.2.0 . GPU will get initiated\n",
    "\n",
    "To change to CPU --install tensorflow with 2.4.1\n",
    "\n",
    "#### Step 7  : Test\n",
    "\n",
    "To test the installation, run the following command from within Tensorflow\\models\\research:\n",
    "\n",
    "- python object_detection/builders/model_builder_tf2_test.py\n",
    "\n",
    "#### Step 8 : Put Object Detection Camera File \n",
    "\n",
    "Copy File in Tensorflow/models/research/object_detection\n",
    "\n",
    "Copy your mp4 File in same above path .\n"
   ]
  },
  {
   "cell_type": "markdown",
   "metadata": {},
   "source": [
    "#### Tensorflow 2 - Zoo Object Detection Model"
   ]
  },
  {
   "cell_type": "markdown",
   "metadata": {},
   "source": [
    "https://github.com/tensorflow/models/blob/master/research/object_detection/g3doc/tf2_detection_zoo.md"
   ]
  },
  {
   "cell_type": "code",
   "execution_count": null,
   "metadata": {},
   "outputs": [],
   "source": []
  },
  {
   "cell_type": "code",
   "execution_count": null,
   "metadata": {},
   "outputs": [],
   "source": []
  }
 ],
 "metadata": {
  "kernelspec": {
   "display_name": "Python 3",
   "language": "python",
   "name": "python3"
  },
  "language_info": {
   "codemirror_mode": {
    "name": "ipython",
    "version": 3
   },
   "file_extension": ".py",
   "mimetype": "text/x-python",
   "name": "python",
   "nbconvert_exporter": "python",
   "pygments_lexer": "ipython3",
   "version": "3.8.8"
  }
 },
 "nbformat": 4,
 "nbformat_minor": 4
}
